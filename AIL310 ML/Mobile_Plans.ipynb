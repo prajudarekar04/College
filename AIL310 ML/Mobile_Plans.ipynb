{
  "nbformat": 4,
  "nbformat_minor": 0,
  "metadata": {
    "colab": {
      "provenance": [],
      "include_colab_link": true
    },
    "kernelspec": {
      "name": "python3",
      "display_name": "Python 3"
    },
    "language_info": {
      "name": "python"
    }
  },
  "cells": [
    {
      "cell_type": "markdown",
      "metadata": {
        "id": "view-in-github",
        "colab_type": "text"
      },
      "source": [
        "<a href=\"https://colab.research.google.com/github/prajudarekar04/College/blob/main/AIL310%20ML/Mobile_Plans.ipynb\" target=\"_parent\"><img src=\"https://colab.research.google.com/assets/colab-badge.svg\" alt=\"Open In Colab\"/></a>"
      ]
    },
    {
      "cell_type": "markdown",
      "source": [
        "Data Preprocessing Tools"
      ],
      "metadata": {
        "id": "14UKMJXRekjd"
      }
    },
    {
      "cell_type": "code",
      "execution_count": null,
      "metadata": {
        "id": "58WLqElIcMlx"
      },
      "outputs": [],
      "source": [
        "import numpy as np\n",
        "import matplotlib.pyplot as plt\n",
        "import pandas as pd"
      ]
    },
    {
      "cell_type": "markdown",
      "source": [
        "Importing the dataset"
      ],
      "metadata": {
        "id": "g-dwOETDfNmd"
      }
    },
    {
      "cell_type": "code",
      "source": [
        "dataset = pd.read_csv('Mobile_Plans.csv')  # Replace 'your_dataset.csv' with the actual file path\n",
        "X = dataset.iloc[:, :-1].values\n",
        "y = dataset.iloc[:, -1].values"
      ],
      "metadata": {
        "id": "4wMpCNfjfS2i"
      },
      "execution_count": null,
      "outputs": []
    },
    {
      "cell_type": "code",
      "source": [
        "print(\"X:\")\n",
        "print(X)"
      ],
      "metadata": {
        "colab": {
          "base_uri": "https://localhost:8080/"
        },
        "id": "sBDpRMmbfu9J",
        "outputId": "f3654468-e23e-4fd5-bc25-3a7b36cf80f2"
      },
      "execution_count": null,
      "outputs": [
        {
          "output_type": "stream",
          "name": "stdout",
          "text": [
            "X:\n",
            "[['Prepaid' 'Airtel' 2.5 249 15]\n",
            " ['Postpaid' 'Jio' 3.0 399 12]\n",
            " ['Prepaid' 'Vodafone Idea' 1.8 199 10]\n",
            " ['Postpaid' 'Airtel' 2.8 349 14]\n",
            " ['Prepaid' 'Jio' 2.2 249 13]\n",
            " ['Postpaid' 'Vodafone Idea' 3.5 449 11]\n",
            " ['Prepaid' 'Airtel' 2.0 199 12]\n",
            " ['Postpaid' 'Jio' 2.5 349 13]\n",
            " ['Prepaid' 'Vodafone Idea' 1.5 149 9]\n",
            " ['Postpaid' 'Airtel' 3.2 449 14]]\n"
          ]
        }
      ]
    },
    {
      "cell_type": "code",
      "source": [
        "print(\"y:\")\n",
        "print(y)"
      ],
      "metadata": {
        "colab": {
          "base_uri": "https://localhost:8080/"
        },
        "id": "m-FvQR5VfyPa",
        "outputId": "747209e5-1fdd-4c1b-d71d-cfbab82364b8"
      },
      "execution_count": null,
      "outputs": [
        {
          "output_type": "stream",
          "name": "stdout",
          "text": [
            "y:\n",
            "['Affordable' 'Expensive' 'Affordable' 'Expensive' 'Affordable'\n",
            " 'Expensive' 'Affordable' 'Expensive' 'Affordable' 'Expensive']\n"
          ]
        }
      ]
    },
    {
      "cell_type": "markdown",
      "source": [
        "Encoding categorical data"
      ],
      "metadata": {
        "id": "jfXM7zBsf2fo"
      }
    },
    {
      "cell_type": "code",
      "source": [
        "from sklearn.compose import ColumnTransformer\n",
        "from sklearn.preprocessing import OneHotEncoder\n",
        "\n",
        "ct = ColumnTransformer(transformers=[('encoder', OneHotEncoder(), [0, 1])], remainder='passthrough')\n",
        "X = np.array(ct.fit_transform(X))"
      ],
      "metadata": {
        "id": "yVUTxLiEf3dO"
      },
      "execution_count": null,
      "outputs": []
    },
    {
      "cell_type": "markdown",
      "source": [
        "Encoding the Dependent Variable"
      ],
      "metadata": {
        "id": "kIZ55ngYf_i_"
      }
    },
    {
      "cell_type": "code",
      "source": [
        "from sklearn.preprocessing import LabelEncoder\n",
        "\n",
        "le = LabelEncoder()\n",
        "y = le.fit_transform(y)"
      ],
      "metadata": {
        "id": "cNpoEgLigAYa"
      },
      "execution_count": null,
      "outputs": []
    },
    {
      "cell_type": "code",
      "source": [
        "print(\"X after encoding:\")\n",
        "print(X)"
      ],
      "metadata": {
        "colab": {
          "base_uri": "https://localhost:8080/"
        },
        "id": "S4npvhUqgHGH",
        "outputId": "709c84cf-db29-4884-b9ef-9e2a692a8761"
      },
      "execution_count": null,
      "outputs": [
        {
          "output_type": "stream",
          "name": "stdout",
          "text": [
            "X after encoding:\n",
            "[[0.0 1.0 1.0 0.0 0.0 2.5 249 15]\n",
            " [1.0 0.0 0.0 1.0 0.0 3.0 399 12]\n",
            " [0.0 1.0 0.0 0.0 1.0 1.8 199 10]\n",
            " [1.0 0.0 1.0 0.0 0.0 2.8 349 14]\n",
            " [0.0 1.0 0.0 1.0 0.0 2.2 249 13]\n",
            " [1.0 0.0 0.0 0.0 1.0 3.5 449 11]\n",
            " [0.0 1.0 1.0 0.0 0.0 2.0 199 12]\n",
            " [1.0 0.0 0.0 1.0 0.0 2.5 349 13]\n",
            " [0.0 1.0 0.0 0.0 1.0 1.5 149 9]\n",
            " [1.0 0.0 1.0 0.0 0.0 3.2 449 14]]\n"
          ]
        }
      ]
    },
    {
      "cell_type": "code",
      "source": [
        "print(\"y after encoding:\")\n",
        "print(y)"
      ],
      "metadata": {
        "colab": {
          "base_uri": "https://localhost:8080/"
        },
        "id": "EYMW7cnLgLe8",
        "outputId": "51320ee5-0413-4839-fe85-959168a56435"
      },
      "execution_count": null,
      "outputs": [
        {
          "output_type": "stream",
          "name": "stdout",
          "text": [
            "y after encoding:\n",
            "[0 1 0 1 0 1 0 1 0 1]\n"
          ]
        }
      ]
    },
    {
      "cell_type": "markdown",
      "source": [
        "Splitting the dataset into the Training set and Test set"
      ],
      "metadata": {
        "id": "jqEWrAA2gTYz"
      }
    },
    {
      "cell_type": "code",
      "source": [
        "from sklearn.model_selection import train_test_split\n",
        "\n",
        "X_train, X_test, y_train, y_test = train_test_split(X, y, test_size=0.2, random_state=1)"
      ],
      "metadata": {
        "id": "BGMBST1_gUMS"
      },
      "execution_count": null,
      "outputs": []
    },
    {
      "cell_type": "code",
      "source": [
        "print(\"X_train:\")\n",
        "print(X_train)"
      ],
      "metadata": {
        "colab": {
          "base_uri": "https://localhost:8080/"
        },
        "id": "dxWCyAJugZDl",
        "outputId": "b73cca19-b2e5-4702-b5a0-87cd9aa29566"
      },
      "execution_count": null,
      "outputs": [
        {
          "output_type": "stream",
          "name": "stdout",
          "text": [
            "X_train:\n",
            "[[0.0 1.0 1.0 0.0 0.0 2.0 199 12]\n",
            " [0.0 1.0 0.0 1.0 0.0 2.2 249 13]\n",
            " [0.0 1.0 1.0 0.0 0.0 2.5 249 15]\n",
            " [1.0 0.0 1.0 0.0 0.0 2.8 349 14]\n",
            " [1.0 0.0 0.0 1.0 0.0 3.0 399 12]\n",
            " [1.0 0.0 0.0 1.0 0.0 2.5 349 13]\n",
            " [0.0 1.0 0.0 0.0 1.0 1.5 149 9]\n",
            " [1.0 0.0 0.0 0.0 1.0 3.5 449 11]]\n"
          ]
        }
      ]
    },
    {
      "cell_type": "code",
      "source": [
        "print(\"X_test:\")\n",
        "print(X_test)"
      ],
      "metadata": {
        "colab": {
          "base_uri": "https://localhost:8080/"
        },
        "id": "LiFhXpwTge1M",
        "outputId": "aa0ecb6d-ebfd-4885-9170-c59175b12954"
      },
      "execution_count": null,
      "outputs": [
        {
          "output_type": "stream",
          "name": "stdout",
          "text": [
            "X_test:\n",
            "[[0.0 1.0 0.0 0.0 1.0 1.8 199 10]\n",
            " [1.0 0.0 1.0 0.0 0.0 3.2 449 14]]\n"
          ]
        }
      ]
    },
    {
      "cell_type": "code",
      "source": [
        "print(\"y_train:\")\n",
        "print(y_train)"
      ],
      "metadata": {
        "colab": {
          "base_uri": "https://localhost:8080/"
        },
        "id": "L8mUzAGrgiHG",
        "outputId": "9c887379-08c1-4bd9-a15f-f2e082736425"
      },
      "execution_count": null,
      "outputs": [
        {
          "output_type": "stream",
          "name": "stdout",
          "text": [
            "y_train:\n",
            "[0 0 0 1 1 1 0 1]\n"
          ]
        }
      ]
    },
    {
      "cell_type": "code",
      "source": [
        "print(\"y_test:\")\n",
        "print(y_test)"
      ],
      "metadata": {
        "colab": {
          "base_uri": "https://localhost:8080/"
        },
        "id": "TO3qFsylgk6o",
        "outputId": "feeae6ec-f2c3-4a9f-e733-5687660ef6bf"
      },
      "execution_count": null,
      "outputs": [
        {
          "output_type": "stream",
          "name": "stdout",
          "text": [
            "y_test:\n",
            "[0 1]\n"
          ]
        }
      ]
    },
    {
      "cell_type": "markdown",
      "source": [
        "Feature Scaling"
      ],
      "metadata": {
        "id": "vRB5etmJgra4"
      }
    },
    {
      "cell_type": "code",
      "source": [
        "from sklearn.preprocessing import StandardScaler\n",
        "\n",
        "sc = StandardScaler()\n",
        "X_train[:, 3:] = sc.fit_transform(X_train[:, 3:])\n",
        "X_test[:, 3:] = sc.transform(X_test[:, 3:])"
      ],
      "metadata": {
        "id": "1QnO1Zg0gqiS"
      },
      "execution_count": null,
      "outputs": []
    },
    {
      "cell_type": "code",
      "source": [
        "print(\"X_train after feature scaling:\")\n",
        "print(X_train)"
      ],
      "metadata": {
        "colab": {
          "base_uri": "https://localhost:8080/"
        },
        "id": "UfZrrEofgxAJ",
        "outputId": "20bdb2a9-8dc0-4bcb-aa26-d144c7f6102f"
      },
      "execution_count": null,
      "outputs": [
        {
          "output_type": "stream",
          "name": "stdout",
          "text": [
            "X_train after feature scaling:\n",
            "[[0.0 1.0 1.0 -0.7745966692414834 -0.5773502691896258 -0.8638684255813602\n",
            "  -1.0327955589886446 -0.2170723815877265]\n",
            " [0.0 1.0 0.0 1.2909944487358056 -0.5773502691896258 -0.5183210553488158\n",
            "  -0.5163977794943223 0.36178730264621084]\n",
            " [0.0 1.0 1.0 -0.7745966692414834 -0.5773502691896258 0.0\n",
            "  -0.5163977794943223 1.5195066711140854]\n",
            " [1.0 0.0 1.0 -0.7745966692414834 -0.5773502691896258 0.5183210553488158\n",
            "  0.5163977794943223 0.9406469868801481]\n",
            " [1.0 0.0 0.0 1.2909944487358056 -0.5773502691896258 0.8638684255813602\n",
            "  1.0327955589886446 -0.2170723815877265]\n",
            " [1.0 0.0 0.0 1.2909944487358056 -0.5773502691896258 0.0\n",
            "  0.5163977794943223 0.36178730264621084]\n",
            " [0.0 1.0 0.0 -0.7745966692414834 1.7320508075688774 -1.7277368511627205\n",
            "  -1.5491933384829668 -1.9536514342895384]\n",
            " [1.0 0.0 0.0 -0.7745966692414834 1.7320508075688774 1.7277368511627205\n",
            "  1.5491933384829668 -0.7959320658216638]]\n"
          ]
        }
      ]
    },
    {
      "cell_type": "code",
      "source": [
        "print(\"X_test after feature scaling:\")\n",
        "print(X_test)"
      ],
      "metadata": {
        "colab": {
          "base_uri": "https://localhost:8080/"
        },
        "id": "J9tj1YI_g1Ba",
        "outputId": "2c481873-f54f-4130-ea47-504b0dbed4d5"
      },
      "execution_count": null,
      "outputs": [
        {
          "output_type": "stream",
          "name": "stdout",
          "text": [
            "X_test after feature scaling:\n",
            "[[0.0 1.0 0.0 -0.7745966692414834 1.7320508075688774 -1.2094157958139042\n",
            "  -1.0327955589886446 -1.374791750055601]\n",
            " [1.0 0.0 1.0 -0.7745966692414834 -0.5773502691896258 1.2094157958139047\n",
            "  1.5491933384829668 0.9406469868801481]]\n"
          ]
        }
      ]
    }
  ]
}
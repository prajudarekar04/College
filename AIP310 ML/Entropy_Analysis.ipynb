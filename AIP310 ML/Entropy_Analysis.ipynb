{
  "nbformat": 4,
  "nbformat_minor": 0,
  "metadata": {
    "colab": {
      "provenance": [],
      "authorship_tag": "ABX9TyPc6ECrKxfct1W/8Isp9mpU",
      "include_colab_link": true
    },
    "kernelspec": {
      "name": "python3",
      "display_name": "Python 3"
    },
    "language_info": {
      "name": "python"
    }
  },
  "cells": [
    {
      "cell_type": "markdown",
      "metadata": {
        "id": "view-in-github",
        "colab_type": "text"
      },
      "source": [
        "<a href=\"https://colab.research.google.com/github/prajudarekar04/College/blob/main/AIP310%20ML/Entropy_Analysis.ipynb\" target=\"_parent\"><img src=\"https://colab.research.google.com/assets/colab-badge.svg\" alt=\"Open In Colab\"/></a>"
      ]
    },
    {
      "cell_type": "code",
      "execution_count": 1,
      "metadata": {
        "id": "XwQBMW5m44Zy"
      },
      "outputs": [],
      "source": [
        "import numpy as np\n",
        "import math\n",
        "import pandas as pd"
      ]
    },
    {
      "cell_type": "code",
      "source": [
        "df = pd.read_csv('play_tennis.csv')"
      ],
      "metadata": {
        "id": "Sx5IijDa5IK7"
      },
      "execution_count": 2,
      "outputs": []
    },
    {
      "cell_type": "markdown",
      "source": [
        "Function for Calculating Entropy"
      ],
      "metadata": {
        "id": "9pxMpxY95QJK"
      }
    },
    {
      "cell_type": "code",
      "source": [
        "def calculate_entropy(data, column_name):\n",
        "    # Get the unique values and their counts in the column\n",
        "    value_counts = data[column_name].value_counts()\n",
        "\n",
        "    # Calculate the total number of rows in the dataset\n",
        "    total_rows = len(data)\n",
        "\n",
        "    # Calculate the entropy\n",
        "    entropy = 0\n",
        "    for count in value_counts:\n",
        "        probability = count / total_rows\n",
        "        entropy -= probability * math.log2(probability)\n",
        "\n",
        "    return entropy"
      ],
      "metadata": {
        "id": "63fJbHQn5Oib"
      },
      "execution_count": 3,
      "outputs": []
    },
    {
      "cell_type": "markdown",
      "source": [
        "Calculate entropy for each column in the dataset"
      ],
      "metadata": {
        "id": "yg82bt9Y5aRh"
      }
    },
    {
      "cell_type": "code",
      "source": [
        "column_entropies = {}\n",
        "for column in df.columns:\n",
        "    entropy = calculate_entropy(df, column)\n",
        "    column_entropies[column] = entropy"
      ],
      "metadata": {
        "id": "-RISwLbM5beK"
      },
      "execution_count": 4,
      "outputs": []
    },
    {
      "cell_type": "markdown",
      "source": [
        "Print the entropies for each column"
      ],
      "metadata": {
        "id": "Ueon47Go5gjx"
      }
    },
    {
      "cell_type": "code",
      "source": [
        "for column, entropy in column_entropies.items():\n",
        "    print(f\"Entropy of '{column}': {entropy:.2f}\")"
      ],
      "metadata": {
        "colab": {
          "base_uri": "https://localhost:8080/"
        },
        "id": "51laMrpW5hQB",
        "outputId": "9535c897-385b-4360-9062-4e23aeedac6b"
      },
      "execution_count": 5,
      "outputs": [
        {
          "output_type": "stream",
          "name": "stdout",
          "text": [
            "Entropy of 'day': 3.81\n",
            "Entropy of 'outlook': 1.58\n",
            "Entropy of 'temp': 1.56\n",
            "Entropy of 'humidity': 1.00\n",
            "Entropy of 'wind': 0.99\n",
            "Entropy of 'play': 0.94\n"
          ]
        }
      ]
    }
  ]
}
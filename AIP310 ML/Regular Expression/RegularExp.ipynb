{
  "cells": [
    {
      "cell_type": "markdown",
      "metadata": {
        "id": "SQ5qMEsB-SSo"
      },
      "source": [
        "RE1"
      ]
    },
    {
      "cell_type": "code",
      "execution_count": 113,
      "metadata": {
        "colab": {
          "base_uri": "https://localhost:8080/"
        },
        "id": "toeuWuZ20Erw",
        "outputId": "f3b3a1e8-5e93-4d2c-ae5a-097829db58d3"
      },
      "outputs": [
        {
          "data": {
            "text/plain": [
              "<re.Match object; span=(8, 11), match='new'>"
            ]
          },
          "execution_count": 113,
          "metadata": {},
          "output_type": "execute_result"
        }
      ],
      "source": [
        "import re\n",
        "line = 'i am in new york city'\n",
        "re.search('new', line)"
      ]
    },
    {
      "cell_type": "code",
      "execution_count": 114,
      "metadata": {
        "id": "ElH3UAIazeSz"
      },
      "outputs": [],
      "source": [
        "text = '''Breaking news from New York: A new restaurant just opened in the heart of the city.'''"
      ]
    },
    {
      "cell_type": "code",
      "execution_count": 115,
      "metadata": {
        "colab": {
          "base_uri": "https://localhost:8080/"
        },
        "id": "t1gIN5PJ4Qen",
        "outputId": "6b43f1ff-80a8-4bee-e733-e2f25c61183b"
      },
      "outputs": [
        {
          "name": "stdout",
          "output_type": "stream",
          "text": [
            "Breaking news from New York: A new restaurant just opened in the heart of the city.\n"
          ]
        }
      ],
      "source": [
        "for line in text.split('\\n'):\n",
        "    if re.search('new', line):  # Does the same thing as \"if 'new' in line:\"\n",
        "        print(line)"
      ]
    },
    {
      "cell_type": "code",
      "execution_count": 116,
      "metadata": {
        "colab": {
          "base_uri": "https://localhost:8080/"
        },
        "id": "mXCYYL2c4gWv",
        "outputId": "9c949fbd-ac8e-45ec-e2ed-c4ccaf9a7cc2"
      },
      "outputs": [
        {
          "name": "stdout",
          "output_type": "stream",
          "text": [
            "Breaking news from New York: A new restaurant just opened in the heart of the city.\n"
          ]
        }
      ],
      "source": [
        "for line in text.split('\\n'):\n",
        "    if 'new' in line:\n",
        "        print(line)"
      ]
    },
    {
      "cell_type": "code",
      "execution_count": 117,
      "metadata": {
        "colab": {
          "base_uri": "https://localhost:8080/"
        },
        "id": "x8g180k34orl",
        "outputId": "dd565de6-aeb7-43d1-dc61-3782ab023198"
      },
      "outputs": [
        {
          "name": "stdout",
          "output_type": "stream",
          "text": [
            "Breaking news from New York: A new restaurant just opened in the heart of the city.\n"
          ]
        }
      ],
      "source": [
        "for line in text.split('\\n'):\n",
        "    if re.search('news', line):\n",
        "        print(line)"
      ]
    },
    {
      "cell_type": "markdown",
      "metadata": {
        "id": "4LCTVIk0-NvX"
      },
      "source": [
        "RE2"
      ]
    },
    {
      "cell_type": "code",
      "execution_count": 118,
      "metadata": {
        "id": "sBM1069_4qsg"
      },
      "outputs": [],
      "source": [
        "text = 'wow,it is a great day!'"
      ]
    },
    {
      "cell_type": "code",
      "execution_count": 119,
      "metadata": {
        "colab": {
          "base_uri": "https://localhost:8080/"
        },
        "id": "UvTuqFcP5t2w",
        "outputId": "8ae7b7b2-07f2-4a51-9c55-4cdd3a25cb87"
      },
      "outputs": [
        {
          "data": {
            "text/plain": [
              "<re.Match object; span=(0, 3), match='wow'>"
            ]
          },
          "execution_count": 119,
          "metadata": {},
          "output_type": "execute_result"
        }
      ],
      "source": [
        "re.search('...', text)"
      ]
    },
    {
      "cell_type": "code",
      "execution_count": 120,
      "metadata": {
        "colab": {
          "base_uri": "https://localhost:8080/"
        },
        "id": "ZigBwDWN5xY0",
        "outputId": "5fa4dd36-4807-47c9-8871-63c4026cd389"
      },
      "outputs": [
        {
          "data": {
            "text/plain": [
              "<re.Match object; span=(0, 5), match='wow,i'>"
            ]
          },
          "execution_count": 120,
          "metadata": {},
          "output_type": "execute_result"
        }
      ],
      "source": [
        "re.search('.....', text)"
      ]
    },
    {
      "cell_type": "code",
      "execution_count": 121,
      "metadata": {
        "colab": {
          "base_uri": "https://localhost:8080/"
        },
        "id": "EH2olIaY5449",
        "outputId": "eda4bf14-e271-4a61-bb3f-c37c0367344c"
      },
      "outputs": [
        {
          "data": {
            "text/plain": [
              "<re.Match object; span=(0, 3), match='wow'>"
            ]
          },
          "execution_count": 121,
          "metadata": {},
          "output_type": "execute_result"
        }
      ],
      "source": [
        "re.search('w.w', text)"
      ]
    },
    {
      "cell_type": "code",
      "execution_count": 122,
      "metadata": {
        "colab": {
          "base_uri": "https://localhost:8080/"
        },
        "id": "AbFqtK1q58Xn",
        "outputId": "2eda7710-dc6c-459d-bc3f-9af1bf5192cd"
      },
      "outputs": [
        {
          "data": {
            "text/plain": [
              "<re.Match object; span=(0, 17), match='wow,it is a great'>"
            ]
          },
          "execution_count": 122,
          "metadata": {},
          "output_type": "execute_result"
        }
      ],
      "source": [
        "re.search('wow.*great', text)"
      ]
    },
    {
      "cell_type": "code",
      "execution_count": 123,
      "metadata": {
        "colab": {
          "base_uri": "https://localhost:8080/"
        },
        "id": "-Oh9a2WP6MU7",
        "outputId": "7c92d872-cfd4-4856-ae7b-0469974ffc71"
      },
      "outputs": [
        {
          "data": {
            "text/plain": [
              "<re.Match object; span=(18, 22), match='day!'>"
            ]
          },
          "execution_count": 123,
          "metadata": {},
          "output_type": "execute_result"
        }
      ],
      "source": [
        "re.search('day.$', text)"
      ]
    },
    {
      "cell_type": "markdown",
      "metadata": {
        "id": "GjxqhTv17-f3"
      },
      "source": [
        "RE3"
      ]
    },
    {
      "cell_type": "code",
      "execution_count": 124,
      "metadata": {
        "id": "rOc7o24R6UFx"
      },
      "outputs": [],
      "source": [
        "s = 'ram has a exam on dec 4th'"
      ]
    },
    {
      "cell_type": "code",
      "execution_count": 125,
      "metadata": {
        "id": "BctP-xLL7fCN"
      },
      "outputs": [],
      "source": [
        "exam_re = re.compile('\\w+ \\d+\\w\\w')"
      ]
    },
    {
      "cell_type": "code",
      "execution_count": 126,
      "metadata": {
        "id": "uLQBkCj67iV3"
      },
      "outputs": [],
      "source": [
        "exam2_re = re.compile('\\w+ \\d+\\w\\w')"
      ]
    },
    {
      "cell_type": "code",
      "execution_count": 127,
      "metadata": {
        "colab": {
          "base_uri": "https://localhost:8080/"
        },
        "id": "y2wsPOFj7zz0",
        "outputId": "1bd82200-cf81-48b3-f45a-2cdeb34007d6"
      },
      "outputs": [
        {
          "data": {
            "text/plain": [
              "<re.Match object; span=(18, 25), match='dec 4th'>"
            ]
          },
          "execution_count": 127,
          "metadata": {},
          "output_type": "execute_result"
        }
      ],
      "source": [
        "exam_re.search(s)"
      ]
    },
    {
      "cell_type": "markdown",
      "metadata": {
        "id": "9VVcXqN68ATP"
      },
      "source": [
        "RE4"
      ]
    },
    {
      "cell_type": "code",
      "execution_count": 128,
      "metadata": {
        "colab": {
          "base_uri": "https://localhost:8080/"
        },
        "id": "HwfNO_wx8TZ_",
        "outputId": "0f95519e-f7ef-49e5-9d0e-e55bb77e9dd3"
      },
      "outputs": [
        {
          "data": {
            "text/plain": [
              "re.compile(r'[0-9]', re.UNICODE)"
            ]
          },
          "execution_count": 128,
          "metadata": {},
          "output_type": "execute_result"
        }
      ],
      "source": [
        "digit_re = re.compile(r'[0-9]')\n",
        "digit_re"
      ]
    },
    {
      "cell_type": "code",
      "execution_count": 129,
      "metadata": {
        "colab": {
          "base_uri": "https://localhost:8080/"
        },
        "id": "TFrMdzcF8XrP",
        "outputId": "f90d2e03-135b-48b7-9c47-7f0aaaa19d72"
      },
      "outputs": [
        {
          "data": {
            "text/plain": [
              "<re.Match object; span=(0, 1), match='1'>"
            ]
          },
          "execution_count": 129,
          "metadata": {},
          "output_type": "execute_result"
        }
      ],
      "source": [
        "numbers = '123 45'\n",
        "digit_re.search(numbers)"
      ]
    },
    {
      "cell_type": "code",
      "execution_count": 130,
      "metadata": {
        "colab": {
          "base_uri": "https://localhost:8080/"
        },
        "id": "lUaBPdGt8grU",
        "outputId": "18009dd8-692b-4c85-c164-21f8609378fa"
      },
      "outputs": [
        {
          "data": {
            "text/plain": [
              "<re.Match object; span=(0, 1), match='1'>"
            ]
          },
          "execution_count": 130,
          "metadata": {},
          "output_type": "execute_result"
        }
      ],
      "source": [
        "re.search(r'\\d', numbers)"
      ]
    },
    {
      "cell_type": "code",
      "execution_count": 131,
      "metadata": {
        "colab": {
          "base_uri": "https://localhost:8080/"
        },
        "id": "-7ookyc88xoS",
        "outputId": "2b7caaa9-75a2-4115-bb49-0c658339081a"
      },
      "outputs": [
        {
          "data": {
            "text/plain": [
              "<re.Match object; span=(1, 2), match='2'>"
            ]
          },
          "execution_count": 131,
          "metadata": {},
          "output_type": "execute_result"
        }
      ],
      "source": [
        "non_one_re = re.compile(r'[2-9]')\n",
        "non_one_re.search(numbers)"
      ]
    },
    {
      "cell_type": "code",
      "execution_count": 132,
      "metadata": {
        "colab": {
          "base_uri": "https://localhost:8080/"
        },
        "id": "8q7CKPvD87Wy",
        "outputId": "b2f8c946-0af0-4f18-8a1a-73a6cc1f5c95"
      },
      "outputs": [
        {
          "data": {
            "text/plain": [
              "<re.Match object; span=(0, 3), match='bob'>"
            ]
          },
          "execution_count": 132,
          "metadata": {},
          "output_type": "execute_result"
        }
      ],
      "source": [
        "bob_re = re.compile(r'b[ao]b')\n",
        "bob_re.search('bob')"
      ]
    },
    {
      "cell_type": "code",
      "execution_count": 133,
      "metadata": {
        "colab": {
          "base_uri": "https://localhost:8080/"
        },
        "id": "azQblaPb9CL2",
        "outputId": "3bc62b45-b445-48e2-a077-23f82d4f1707"
      },
      "outputs": [
        {
          "data": {
            "text/plain": [
              "<re.Match object; span=(0, 3), match='bab'>"
            ]
          },
          "execution_count": 133,
          "metadata": {},
          "output_type": "execute_result"
        }
      ],
      "source": [
        "bob_re.search('bab')"
      ]
    },
    {
      "cell_type": "code",
      "execution_count": 134,
      "metadata": {
        "colab": {
          "base_uri": "https://localhost:8080/"
        },
        "id": "trSOAkPW9McN",
        "outputId": "c33d36a3-2fb9-4c74-972c-03d2ff32f5b4"
      },
      "outputs": [
        {
          "data": {
            "text/plain": [
              "<re.Match object; span=(13, 25), match='123-456-1234'>"
            ]
          },
          "execution_count": 134,
          "metadata": {},
          "output_type": "execute_result"
        }
      ],
      "source": [
        "phone_re = re.compile(r'\\d{3}-\\d{3}-\\d{4}')\n",
        "phone_re.search('my number is 123-456-1234')"
      ]
    },
    {
      "cell_type": "markdown",
      "metadata": {
        "id": "1vvQvRqM9RTX"
      },
      "source": [
        "RE5"
      ]
    },
    {
      "cell_type": "code",
      "execution_count": 135,
      "metadata": {
        "colab": {
          "base_uri": "https://localhost:8080/"
        },
        "id": "c1aWW_tP9S07",
        "outputId": "09f8937f-cce3-41c2-c42d-0fbec893a24d"
      },
      "outputs": [
        {
          "name": "stdout",
          "output_type": "stream",
          "text": [
            "[' ']\n"
          ]
        }
      ],
      "source": [
        "pattern = r'\\s' #whitespace character\n",
        "text = \"Hello World\"\n",
        "matches = re.findall(pattern, text)\n",
        "\n",
        "print(matches)"
      ]
    },
    {
      "cell_type": "code",
      "execution_count": 136,
      "metadata": {
        "colab": {
          "base_uri": "https://localhost:8080/"
        },
        "id": "KBD5kRbm954a",
        "outputId": "fb5d6f72-0bfe-48b7-e7e6-e8cc5333cee7"
      },
      "outputs": [
        {
          "name": "stdout",
          "output_type": "stream",
          "text": [
            "['H', 'e', 'l', 'l', 'o', 'W', 'o', 'r', 'l', 'd']\n"
          ]
        }
      ],
      "source": [
        "pattern = r'\\S' # non whitespace character\n",
        "text = \"Hello World\"\n",
        "matches = re.findall(pattern, text)\n",
        "\n",
        "print(matches)"
      ]
    },
    {
      "cell_type": "code",
      "execution_count": 137,
      "metadata": {
        "colab": {
          "base_uri": "https://localhost:8080/"
        },
        "id": "W_g6eK089_FB",
        "outputId": "055130d7-c88d-4d56-f9f4-992a9ddc9fab"
      },
      "outputs": [
        {
          "name": "stdout",
          "output_type": "stream",
          "text": [
            "[' ', '!']\n"
          ]
        }
      ],
      "source": [
        "pattern = r'\\W' # non word character\n",
        "text = \"Hello_World 123!\"\n",
        "matches = re.findall(pattern, text)\n",
        "\n",
        "print(matches)"
      ]
    },
    {
      "cell_type": "code",
      "execution_count": 138,
      "metadata": {
        "colab": {
          "base_uri": "https://localhost:8080/"
        },
        "id": "lI_XoTZM-Ebp",
        "outputId": "77e7f9bf-e098-4380-a54b-481c63ccc61f"
      },
      "outputs": [
        {
          "name": "stdout",
          "output_type": "stream",
          "text": [
            "[' ', 'M', 'a', 'i', 'n', ' ', 'S', 't', 'r', 'e', 'e', 't']\n"
          ]
        }
      ],
      "source": [
        "pattern = r'\\D' # non digit character\n",
        "text = \"123 Main Street\"\n",
        "matches = re.findall(pattern, text)\n",
        "\n",
        "print(matches)"
      ]
    },
    {
      "cell_type": "markdown",
      "metadata": {
        "id": "q2Rx2V2m-XmR"
      },
      "source": [
        "RE6"
      ]
    },
    {
      "cell_type": "code",
      "execution_count": 139,
      "metadata": {
        "colab": {
          "base_uri": "https://localhost:8080/"
        },
        "id": "4-AAa5oG-Y41",
        "outputId": "0d94853e-0c45-4a1d-c23e-1efecb931a4a"
      },
      "outputs": [
        {
          "name": "stdout",
          "output_type": "stream",
          "text": [
            "['123', '456']\n"
          ]
        }
      ],
      "source": [
        "pattern = r'\\d+'  # Match one or more digits\n",
        "text = \"There are 123 apples and 456 oranges.\"\n",
        "\n",
        "matches = re.findall(pattern, text)\n",
        "print(matches)"
      ]
    },
    {
      "cell_type": "code",
      "execution_count": 140,
      "metadata": {
        "colab": {
          "base_uri": "https://localhost:8080/"
        },
        "id": "8E0Qy1In-3NS",
        "outputId": "d332f6a2-468c-4921-ab4f-14e31953c3ed"
      },
      "outputs": [
        {
          "name": "stdout",
          "output_type": "stream",
          "text": [
            "Month: 123\n",
            "Day: 45\n",
            "Year: 6789\n",
            "Month: 987\n",
            "Day: 65\n",
            "Year: 4321\n"
          ]
        }
      ],
      "source": [
        "pattern = r'(\\d{3})-(\\d{2})-(\\d{4})'  # Match a date in the format: XXX-XX-XXXX\n",
        "text = \"Birthdate: 123-45-6789, Joining date: 987-65-4321\"\n",
        "\n",
        "matches = re.findall(pattern, text)\n",
        "for match in matches:\n",
        "    #print(\"Full Match:\", match[0])        # Full match\n",
        "    print(\"Month:\", match[0])             # Month\n",
        "    print(\"Day:\", match[1])               # Day\n",
        "    print(\"Year:\", match[2])              # Year"
      ]
    }
  ],
  "metadata": {
    "colab": {
      "provenance": []
    },
    "kernelspec": {
      "display_name": "Python 3",
      "name": "python3"
    },
    "language_info": {
      "codemirror_mode": {
        "name": "ipython",
        "version": 3
      },
      "file_extension": ".py",
      "mimetype": "text/x-python",
      "name": "python",
      "nbconvert_exporter": "python",
      "pygments_lexer": "ipython3",
      "version": "3.11.5"
    }
  },
  "nbformat": 4,
  "nbformat_minor": 0
}
